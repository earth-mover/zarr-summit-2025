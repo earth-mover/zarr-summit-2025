{
 "cells": [
  {
   "cell_type": "code",
   "execution_count": 2,
   "id": "648df735-2809-4387-a89b-3a261daf9538",
   "metadata": {},
   "outputs": [
    {
     "name": "stdout",
     "output_type": "stream",
     "text": [
      "  \u001b[2m2025-10-17T06:59:30.939653Z\u001b[0m \u001b[33m WARN\u001b[0m \u001b[1;33micechunk::storage::object_store\u001b[0m\u001b[33m: \u001b[33mThe LocalFileSystem storage is not safe for concurrent commits. If more than one thread/process will attempt to commit at the same time, prefer using object stores.\u001b[0m\n",
      "    \u001b[2;3mat\u001b[0m icechunk/src/storage/object_store.rs:80\n",
      "\n"
     ]
    }
   ],
   "source": [
    "import icechunk\n",
    "import zarr\n",
    "\n",
    "storage = icechunk.local_filesystem_storage('./quickstart.icechunk')\n",
    "repo = icechunk.Repository.create(storage)\n",
    "repo"
   ]
  },
  {
   "cell_type": "code",
   "execution_count": 4,
   "id": "960403b8-3253-463b-9034-063895d7d62d",
   "metadata": {},
   "outputs": [],
   "source": [
    "with repo.transaction(\"main\", message=\"initialize data\") as store:\n",
    "    root = zarr.open_group(store=store)\n",
    "    root.create_array('foo', shape=(1000, 1000), dtype='i4')"
   ]
  },
  {
   "cell_type": "code",
   "execution_count": 9,
   "id": "4b34c0b6-6a3d-4951-8bef-4a9c67d0921e",
   "metadata": {},
   "outputs": [
    {
     "name": "stdout",
     "output_type": "stream",
     "text": [
      "CCVSSSNNS607W44Q197G initialize data 2025-10-17 06:59:41.798428+00:00\n",
      "1CECHNKREP0F1RSTCMT0 Repository initialized 2025-10-17 06:59:30.940921+00:00\n"
     ]
    }
   ],
   "source": [
    "hist = repo.ancestry(branch=\"main\")\n",
    "for ancestor in hist:\n",
    "    print(ancestor.id, ancestor.message, ancestor.written_at)"
   ]
  },
  {
   "cell_type": "code",
   "execution_count": 10,
   "id": "68c15c74-cfd0-4d63-b912-a0fec85e17c3",
   "metadata": {},
   "outputs": [],
   "source": [
    "with repo.transaction(\"main\", message=\"overwrite some values\") as store:\n",
    "    group = zarr.open_group(store)\n",
    "    array = group[\"foo\"]\n",
    "    array[:5] = 2\n"
   ]
  },
  {
   "cell_type": "code",
   "execution_count": 11,
   "id": "b8ca1adb-b981-404f-af43-b9e39007dcc5",
   "metadata": {},
   "outputs": [
    {
     "name": "stdout",
     "output_type": "stream",
     "text": [
      "RB7EWYW6TXMRBCGYPVHG overwrite some values 2025-10-17 07:01:07.806449+00:00\n",
      "CCVSSSNNS607W44Q197G initialize data 2025-10-17 06:59:41.798428+00:00\n",
      "1CECHNKREP0F1RSTCMT0 Repository initialized 2025-10-17 06:59:30.940921+00:00\n"
     ]
    }
   ],
   "source": [
    "hist = repo.ancestry(branch=\"main\")\n",
    "for ancestor in hist:\n",
    "    print(ancestor.id, ancestor.message, ancestor.written_at)"
   ]
  },
  {
   "cell_type": "code",
   "execution_count": null,
   "id": "d677a660-06c3-48f2-8654-7e94374cbf79",
   "metadata": {},
   "outputs": [],
   "source": []
  }
 ],
 "metadata": {
  "kernelspec": {
   "display_name": "Python 3 (ipykernel)",
   "language": "python",
   "name": "python3"
  },
  "language_info": {
   "codemirror_mode": {
    "name": "ipython",
    "version": 3
   },
   "file_extension": ".py",
   "mimetype": "text/x-python",
   "name": "python",
   "nbconvert_exporter": "python",
   "pygments_lexer": "ipython3",
   "version": "3.12.4"
  }
 },
 "nbformat": 4,
 "nbformat_minor": 5
}
